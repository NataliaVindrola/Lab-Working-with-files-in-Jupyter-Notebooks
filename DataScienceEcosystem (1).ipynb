{
 "cells": [
  {
   "cell_type": "markdown",
   "id": "5fb4dc6f-4ca1-4f7c-a045-b1dd83f48483",
   "metadata": {},
   "source": [
    "## Author\n",
    "Natalia "
   ]
  },
  {
   "cell_type": "markdown",
   "id": "af18aaca-9311-4194-b5c0-32ee5cbc8ce5",
   "metadata": {},
   "source": [
    "# Data Science Tools and Ecosystem"
   ]
  },
  {
   "cell_type": "markdown",
   "id": "58df3532-ce96-4ee3-b24e-e8bab0d95e0e",
   "metadata": {},
   "source": [
    "In this notebook, Data Science Tools and Ecosystem are summarized"
   ]
  },
  {
   "cell_type": "markdown",
   "id": "d26848c9-1366-447b-8338-b8dab28b0103",
   "metadata": {},
   "source": [
    "Some takeaways from this course:\n",
    "\n",
    "**Objectives:**\n",
    "- Languages for Data Science\n",
    "- Libraries for Data Science\n",
    "- Tools for Data Science\n",
    "- Arithmetic expressions\n",
    "    - Simple arithmetic expressions\n",
    "    - Convert minutes to hours\n",
    "\n"
   ]
  },
  {
   "cell_type": "markdown",
   "id": "a4e1be65-7ce8-4126-8a4d-a6152dfc0dec",
   "metadata": {},
   "source": [
    "Some of the popular languages that Data Scientist use are:\n",
    "1. Python\n",
    "1. SQL\n",
    "1. R\n",
    "1. Julia\n",
    "1. JavaScript\n",
    "1. Scala\n",
    "\n"
   ]
  },
  {
   "cell_type": "markdown",
   "id": "799d4b3f-0b7d-402a-a323-2a369b87d4de",
   "metadata": {},
   "source": [
    "Some of the commonly used libraries used by Data Scientist include:\n",
    "1. TensorFlow\n",
    "1. NumPy\n",
    "1. SciPy\n",
    "1. Pandas\n",
    "1. Pytorch\n",
    "1. Anaconda"
   ]
  },
  {
   "cell_type": "markdown",
   "id": "7d220170-9652-4893-a97f-b0540fa9780d",
   "metadata": {},
   "source": [
    "| Data Science Tools | \n",
    "| ------------------ |\n",
    "| Jupyter lab |\n",
    "| Apache Zeppelin |\n",
    "| R Studio |\n"
   ]
  },
  {
   "cell_type": "markdown",
   "id": "321af160-a940-471c-8dbf-da9cbf55cc5d",
   "metadata": {},
   "source": [
    "### Below are a few examples of evaluating arithmetic expressions in Python"
   ]
  },
  {
   "cell_type": "code",
   "execution_count": 3,
   "id": "efc92dc0-3f2d-4887-a022-8c5c6dac277a",
   "metadata": {},
   "outputs": [
    {
     "data": {
      "text/plain": [
       "17"
      ]
     },
     "execution_count": 3,
     "metadata": {},
     "output_type": "execute_result"
    }
   ],
   "source": [
    "(3*4)+5\n",
    "# This is a simple arithmetic expression to multiply then integers"
   ]
  },
  {
   "cell_type": "code",
   "execution_count": 4,
   "id": "d6a15b14-7d26-4f57-a6cd-04290bd4c1c3",
   "metadata": {},
   "outputs": [
    {
     "data": {
      "text/plain": [
       "3.3333333333333335"
      ]
     },
     "execution_count": 4,
     "metadata": {},
     "output_type": "execute_result"
    }
   ],
   "source": [
    "200/60\n",
    "# This will convert 200 minutes to hours by diving by 60"
   ]
  },
  {
   "cell_type": "code",
   "execution_count": null,
   "id": "78e45681-15c3-422f-a5cb-72aa7a22fe2a",
   "metadata": {},
   "outputs": [],
   "source": []
  }
 ],
 "metadata": {
  "kernelspec": {
   "display_name": "Python",
   "language": "python",
   "name": "conda-env-python-py"
  },
  "language_info": {
   "codemirror_mode": {
    "name": "ipython",
    "version": 3
   },
   "file_extension": ".py",
   "mimetype": "text/x-python",
   "name": "python",
   "nbconvert_exporter": "python",
   "pygments_lexer": "ipython3",
   "version": "3.7.12"
  }
 },
 "nbformat": 4,
 "nbformat_minor": 5
}
